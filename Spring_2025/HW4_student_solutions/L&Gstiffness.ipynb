{
 "cells": [
  {
   "cell_type": "code",
   "execution_count": 25,
   "id": "e371eb43-d74b-422d-bea4-88b468d067a0",
   "metadata": {},
   "outputs": [],
   "source": [
    "import numpy as np"
   ]
  },
  {
   "cell_type": "code",
   "execution_count": 27,
   "id": "2582ffcd-7385-4300-9b45-5ef8ce59bb81",
   "metadata": {},
   "outputs": [],
   "source": [
    "def elem_stiffness(E, A, n1, n2):\n",
    "    #coordinates from nodes\n",
    "    x1, y1 = n1\n",
    "    x2, y2 = n2\n",
    "    #distance calc\n",
    "    L = np.sqrt((x2 - x1) ** 2 + (y2 - y1) ** 2)\n",
    "    #local stiffness matrix\n",
    "    k_local = (E * A / L) * np.array([[1, 0, -1, 0],\n",
    "                                      [0,0,0,0],\n",
    "                                       [-1, 0, 1, 0],\n",
    "                                         [0,0,0,0]])\n",
    "    #Global Stiffness\n",
    "    #direction trig\n",
    "    C = (x2 - x1) / L\n",
    "    S = (y2 - y1) / L\n",
    "    #transformation matrix\n",
    "    b = np.array([[C, S, 0, 0],\n",
    "                  [-S, C, 0, 0],\n",
    "                  [0, 0, C, S],\n",
    "                  [0, 0, -S, C]])\n",
    "    #calc global stiffness\n",
    "    k_global = b.T @ k_local @ b\n",
    "    \n",
    "    return k_local, k_global\n",
    "    '''Suggestions for improvement:\n",
    "    atan2\n",
    "    allow for more flexible material properties\n",
    "    '''\n",
    "    \n",
    "    \n",
    "    "
   ]
  },
  {
   "cell_type": "code",
   "execution_count": 29,
   "id": "0707e242-7f3e-482a-817d-64094e024262",
   "metadata": {},
   "outputs": [
    {
     "name": "stdout",
     "output_type": "stream",
     "text": [
      "Local Stiffness Matrix:\n",
      "[[ 590000.       0. -590000.       0.]\n",
      " [      0.       0.       0.       0.]\n",
      " [-590000.       0.  590000.       0.]\n",
      " [      0.       0.       0.       0.]]\n",
      "\n",
      "Global Stiffness Matrix:\n",
      "[[ 212400.  283200. -212400. -283200.]\n",
      " [ 283200.  377600. -283200. -377600.]\n",
      " [-212400. -283200.  212400.  283200.]\n",
      " [-283200. -377600.  283200.  377600.]]\n"
     ]
    }
   ],
   "source": [
    "E = 29500000 \n",
    "A = 0.1   \n",
    "n1 = (0, 0)\n",
    "n2 = (3, 4) \n",
    "\n",
    "k_local, k_global = elem_stiffness(E, A, n1, n2)\n",
    "\n",
    "print(\"Local Stiffness Matrix:\")\n",
    "print(k_local)\n",
    "print(\"\\nGlobal Stiffness Matrix:\")\n",
    "print(k_global)"
   ]
  },
  {
   "cell_type": "code",
   "execution_count": null,
   "id": "65a1c918-1e1a-48aa-9aa5-86ce1f67287c",
   "metadata": {},
   "outputs": [],
   "source": []
  }
 ],
 "metadata": {
  "kernelspec": {
   "display_name": "Python [conda env:base] *",
   "language": "python",
   "name": "conda-base-py"
  },
  "language_info": {
   "codemirror_mode": {
    "name": "ipython",
    "version": 3
   },
   "file_extension": ".py",
   "mimetype": "text/x-python",
   "name": "python",
   "nbconvert_exporter": "python",
   "pygments_lexer": "ipython3",
   "version": "3.11.5"
  }
 },
 "nbformat": 4,
 "nbformat_minor": 5
}
