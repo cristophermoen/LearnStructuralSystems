{
 "cells": [
  {
   "cell_type": "code",
   "execution_count": 1,
   "id": "e371eb43-d74b-422d-bea4-88b468d067a0",
   "metadata": {},
   "outputs": [],
   "source": [
    "import numpy as np"
   ]
  },
  {
   "cell_type": "code",
   "execution_count": 2,
   "id": "2582ffcd-7385-4300-9b45-5ef8ce59bb81",
   "metadata": {},
   "outputs": [],
   "source": [
    "def elem_stiffness(E, A, n1, n2):\n",
    "    #coordinates from nodes\n",
    "    x1, y1 = n1\n",
    "    x2, y2 = n2\n",
    "    #distance calc\n",
    "    L = np.sqrt((x2 - x1) ** 2 + (y2 - y1) ** 2)\n",
    "    #local stiffness matrix\n",
    "    k_local = (E * A / L) * np.array([[1, 0, -1, 0],\n",
    "                                      [0,0,0,0],\n",
    "                                       [-1, 0, 1, 0],\n",
    "                                         [0,0,0,0]])\n",
    "    #Global Stiffness\n",
    "    #direction trig\n",
    "    C = (x2 - x1) / L\n",
    "    S = (y2 - y1) / L\n",
    "    #transformation matrix\n",
    "    b = np.array([[C, S, 0, 0],\n",
    "                  [-S, C, 0, 0],\n",
    "                  [0, 0, C, S],\n",
    "                  [0, 0, -S, C]])\n",
    "    #calc global stiffness\n",
    "    k_global = b.T @ k_local @ b\n",
    "    \n",
    "    return k_local, k_global, L, C, S\n",
    "\n",
    "    "
   ]
  },
  {
   "cell_type": "code",
   "execution_count": null,
   "id": "0707e242-7f3e-482a-817d-64094e024262",
   "metadata": {},
   "outputs": [],
   "source": []
  },
  {
   "cell_type": "code",
   "execution_count": 3,
   "id": "65a1c918-1e1a-48aa-9aa5-86ce1f67287c",
   "metadata": {},
   "outputs": [
    {
     "name": "stdout",
     "output_type": "stream",
     "text": [
      "Displacement field:\n",
      "[ 0.19157088 -0.19157088  0.          0.          0.          0.        ]\n"
     ]
    }
   ],
   "source": [
    "#displacement field\n",
    "#Givens\n",
    "E = 29e6  # psi\n",
    "A = 3.6   # in²\n",
    "n1 = (0, 0)\n",
    "n2 = (-100, -100)\n",
    "n3 = (100, -100)\n",
    "elements = [(n1, n2), (n1, n3), (n2, n3)]\n",
    "F = np.array([100000, 0, 0, 0, 0, 0])\n",
    "\n",
    "# Global stiffness matrix (3 nodes, each with 2 dof)\n",
    "K_global = np.zeros((6, 6))\n",
    "\n",
    "# Assemble Global Stiffness Matrix\n",
    "lengths = []\n",
    "cosines = []\n",
    "sines = []\n",
    "for n, (ni, nj) in enumerate(elements):\n",
    "    k_local, k_global, L, C, S = elem_stiffness(E, A, ni, nj)\n",
    "    lengths.append(L)\n",
    "    cosines.append(C)\n",
    "    sines.append(S)\n",
    "    \n",
    "    dof_map = [2*n, 2*n+1, 2*n+2, 2*n+3]\n",
    "    \n",
    "    for i in range(4):\n",
    "        for j in range(4):\n",
    "            K_global[dof_map[i] % 6, dof_map[j] % 6] += k_global[i, j]\n",
    "\n",
    "# Boundry conditions on nodes 2 and 3 \n",
    "free_dofs = [0, 1]  # Only n1's displacements are unknown\n",
    "K_reduced = K_global[np.ix_(free_dofs, free_dofs)]\n",
    "F_reduced = F[free_dofs]\n",
    "\n",
    "# Solve for displacements\n",
    "U = np.zeros(6)\n",
    "U[free_dofs] = np.linalg.solve(K_reduced, F_reduced)\n",
    "\n",
    "print(\"Displacement field:\")\n",
    "print(U)\n"
   ]
  },
  {
   "cell_type": "code",
   "execution_count": 4,
   "id": "6525dbd4-1fb4-487b-b74c-42888027261c",
   "metadata": {},
   "outputs": [
    {
     "name": "stdout",
     "output_type": "stream",
     "text": [
      "Reaction forces at fixed nodes:\n",
      "[      0.       0. -100000.       0.]\n"
     ]
    }
   ],
   "source": [
    "# Compute reaction forces\n",
    "reaction_forces = K_global @ U - F\n",
    "fixed_dofs = [2, 3, 4, 5]\n",
    "\n",
    "print(\"Reaction forces at fixed nodes:\")\n",
    "print(reaction_forces[fixed_dofs])"
   ]
  },
  {
   "cell_type": "code",
   "execution_count": 5,
   "id": "ad09f0d0-f020-450c-b295-2b8c9bbd2285",
   "metadata": {},
   "outputs": [
    {
     "name": "stdout",
     "output_type": "stream",
     "text": [
      "Internal forces in each element:\n",
      "[0.0, -199999.99999999997, 0.0]\n"
     ]
    }
   ],
   "source": [
    "#internal forces\n",
    "internal_forces = []\n",
    "nodes = [n1, n2, n3]\n",
    "for i, (ni, nj) in enumerate(elements):\n",
    "    L = lengths[i]\n",
    "    C = cosines[i]\n",
    "    S = sines[i]\n",
    "    \n",
    "    node_i = nodes.index(ni)\n",
    "    node_j = nodes.index(nj)\n",
    "    \n",
    "    dof_map = [2*node_i, 2*node_i+1, 2*node_j, 2*node_j+1]  # Proper DOF mapping\n",
    "    \n",
    "    # Global displacements for the element\n",
    "    u_global = U[dof_map]\n",
    "    \n",
    "    # Transformation matrix\n",
    "    T = np.array([[C, S, 0, 0],\n",
    "                  [0, 0, C, S]])\n",
    "    \n",
    "    # Global displacements to local displacements\n",
    "    u_local = T @ u_global\n",
    "    \n",
    "    # axial force equation\n",
    "    force = (E * A / L) * (u_local[1] - u_local[0])\n",
    "    internal_forces.append(force)\n",
    "\n",
    "print(\"Internal forces in each element:\")\n",
    "print(internal_forces)"
   ]
  },
  {
   "cell_type": "code",
   "execution_count": null,
   "id": "351985a0-9bfb-4a2b-99dd-d6a2f74e3772",
   "metadata": {},
   "outputs": [],
   "source": []
  }
 ],
 "metadata": {
  "kernelspec": {
   "display_name": "Python [conda env:base] *",
   "language": "python",
   "name": "conda-base-py"
  },
  "language_info": {
   "codemirror_mode": {
    "name": "ipython",
    "version": 3
   },
   "file_extension": ".py",
   "mimetype": "text/x-python",
   "name": "python",
   "nbconvert_exporter": "python",
   "pygments_lexer": "ipython3",
   "version": "3.11.5"
  }
 },
 "nbformat": 4,
 "nbformat_minor": 5
}
